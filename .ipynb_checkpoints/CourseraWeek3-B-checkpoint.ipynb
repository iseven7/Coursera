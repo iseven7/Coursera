{
 "cells": [
  {
   "cell_type": "code",
   "execution_count": 4,
   "metadata": {},
   "outputs": [],
   "source": [
    "import numpy as np # library to handle data in a vectorized manner\n",
    "import pandas as pd # library for data analsysis\n",
    "import json # library to handle JSON files\n",
    "#!conda install -c conda-forge beautifulsoup4 --yes \n",
    "#!conda install -c conda-forge lxml --yes "
   ]
  },
  {
   "cell_type": "code",
   "execution_count": 5,
   "metadata": {},
   "outputs": [],
   "source": [
    "import requests\n",
    "from bs4 import BeautifulSoup"
   ]
  },
  {
   "cell_type": "code",
   "execution_count": 6,
   "metadata": {},
   "outputs": [],
   "source": [
    "wikipedia_link='https://en.wikipedia.org/wiki/List_of_postal_codes_of_Canada:_M'\n",
    "html_file=requests.get(wikipedia_link)\n",
    "soup=BeautifulSoup(html_file.text,'lxml')"
   ]
  },
  {
   "cell_type": "code",
   "execution_count": 7,
   "metadata": {},
   "outputs": [],
   "source": [
    "PostCode=[]\n",
    "Borough=[]\n",
    "Neighbourhood=[]\n",
    "table=soup.find('table',{'class':'wikitable sortable'})\n",
    "for row in table.findAll(\"tr\"):\n",
    "    cells=row.findAll(\"td\")\n",
    "    temp=[]\n",
    "    for td in cells:\n",
    "        temp.append(td.text)\n",
    "    if len(temp)>1:\n",
    "        if temp[0]!=\"Not assigned\" and temp[1]!=\"Not assigned\" and temp[2]!=\"Not assigned\":\n",
    "            PostCode.append(temp[0])\n",
    "            Borough.append(temp[1])\n",
    "            Neighbourhood.append(temp[2])\n"
   ]
  },
  {
   "cell_type": "code",
   "execution_count": 8,
   "metadata": {},
   "outputs": [],
   "source": [
    "d={\"PostCode\":PostCode,\"Borough\":Borough,\"Neighbourhood\":Neighbourhood}\n",
    "df=pd.DataFrame(data=d)"
   ]
  },
  {
   "cell_type": "code",
   "execution_count": 9,
   "metadata": {},
   "outputs": [
    {
     "data": {
      "text/html": [
       "<div>\n",
       "<style scoped>\n",
       "    .dataframe tbody tr th:only-of-type {\n",
       "        vertical-align: middle;\n",
       "    }\n",
       "\n",
       "    .dataframe tbody tr th {\n",
       "        vertical-align: top;\n",
       "    }\n",
       "\n",
       "    .dataframe thead th {\n",
       "        text-align: right;\n",
       "    }\n",
       "</style>\n",
       "<table border=\"1\" class=\"dataframe\">\n",
       "  <thead>\n",
       "    <tr style=\"text-align: right;\">\n",
       "      <th></th>\n",
       "      <th>PostCode</th>\n",
       "      <th>Borough</th>\n",
       "      <th>Neighbourhood</th>\n",
       "    </tr>\n",
       "  </thead>\n",
       "  <tbody>\n",
       "    <tr>\n",
       "      <th>0</th>\n",
       "      <td>M3A</td>\n",
       "      <td>North York</td>\n",
       "      <td>Parkwoods\\n</td>\n",
       "    </tr>\n",
       "    <tr>\n",
       "      <th>1</th>\n",
       "      <td>M4A</td>\n",
       "      <td>North York</td>\n",
       "      <td>Victoria Village\\n</td>\n",
       "    </tr>\n",
       "    <tr>\n",
       "      <th>2</th>\n",
       "      <td>M5A</td>\n",
       "      <td>Downtown Toronto</td>\n",
       "      <td>Harbourfront\\n</td>\n",
       "    </tr>\n",
       "    <tr>\n",
       "      <th>3</th>\n",
       "      <td>M5A</td>\n",
       "      <td>Downtown Toronto</td>\n",
       "      <td>Regent Park\\n</td>\n",
       "    </tr>\n",
       "    <tr>\n",
       "      <th>4</th>\n",
       "      <td>M6A</td>\n",
       "      <td>North York</td>\n",
       "      <td>Lawrence Heights\\n</td>\n",
       "    </tr>\n",
       "  </tbody>\n",
       "</table>\n",
       "</div>"
      ],
      "text/plain": [
       "  PostCode           Borough       Neighbourhood\n",
       "0      M3A        North York         Parkwoods\\n\n",
       "1      M4A        North York  Victoria Village\\n\n",
       "2      M5A  Downtown Toronto      Harbourfront\\n\n",
       "3      M5A  Downtown Toronto       Regent Park\\n\n",
       "4      M6A        North York  Lawrence Heights\\n"
      ]
     },
     "execution_count": 9,
     "metadata": {},
     "output_type": "execute_result"
    }
   ],
   "source": [
    "df.head()"
   ]
  },
  {
   "cell_type": "code",
   "execution_count": 2,
   "metadata": {},
   "outputs": [
    {
     "name": "stdout",
     "output_type": "stream",
     "text": [
      "Solving environment: done\n",
      "\n",
      "## Package Plan ##\n",
      "\n",
      "  environment location: /home/ibrahimseven/anaconda3\n",
      "\n",
      "  added / updated specs: \n",
      "    - geocoder\n",
      "\n",
      "\n",
      "The following packages will be downloaded:\n",
      "\n",
      "    package                    |            build\n",
      "    ---------------------------|-----------------\n",
      "    orderedset-2.0             |           py36_0         231 KB  conda-forge\n",
      "    ratelim-0.1.6              |           py36_0           5 KB  conda-forge\n",
      "    geocoder-1.38.1            |             py_0          52 KB  conda-forge\n",
      "    ------------------------------------------------------------\n",
      "                                           Total:         288 KB\n",
      "\n",
      "The following NEW packages will be INSTALLED:\n",
      "\n",
      "    geocoder:   1.38.1-py_0  conda-forge\n",
      "    orderedset: 2.0-py36_0   conda-forge\n",
      "    ratelim:    0.1.6-py36_0 conda-forge\n",
      "\n",
      "\n",
      "Downloading and Extracting Packages\n",
      "orderedset-2.0       | 231 KB    | ##################################### | 100% \n",
      "ratelim-0.1.6        | 5 KB      | ##################################### | 100% \n",
      "geocoder-1.38.1      | 52 KB     | ##################################### | 100% \n",
      "Preparing transaction: done\n",
      "Verifying transaction: done\n",
      "Executing transaction: done\n"
     ]
    }
   ],
   "source": [
    "!conda install -c conda-forge geocoder --yes "
   ]
  },
  {
   "cell_type": "code",
   "execution_count": null,
   "metadata": {},
   "outputs": [],
   "source": [
    "import geocoder # import geocoder\n",
    "lats=[]\n",
    "longs=[]\n",
    "PostalCodes=df[[\"PostCode\"]].values.tolist()\n",
    "for postal_code in PostalCodes:\n",
    "    # initialize your variable to None\n",
    "    lat_lng_coords = None\n",
    "\n",
    "    # loop until you get the coordinates\n",
    "    while(lat_lng_coords is None):\n",
    "      g = geocoder.google('{}, Toronto, Ontario'.format(postal_code))\n",
    "      lat_lng_coords = g.latlng\n",
    "\n",
    "    latitude = lat_lng_coords[0]\n",
    "    longitude = lat_lng_coords[1]\n",
    "    lats.append(latitude)\n",
    "    longs.append(longitude)\n",
    "df[\"Latitude\"]=lats\n",
    "df[\"Longtitude\"]=longs\n",
    "df.head()"
   ]
  },
  {
   "cell_type": "code",
   "execution_count": null,
   "metadata": {},
   "outputs": [],
   "source": []
  }
 ],
 "metadata": {
  "kernelspec": {
   "display_name": "Python 3",
   "language": "python",
   "name": "python3"
  },
  "language_info": {
   "codemirror_mode": {
    "name": "ipython",
    "version": 3
   },
   "file_extension": ".py",
   "mimetype": "text/x-python",
   "name": "python",
   "nbconvert_exporter": "python",
   "pygments_lexer": "ipython3",
   "version": "3.6.5"
  }
 },
 "nbformat": 4,
 "nbformat_minor": 2
}
